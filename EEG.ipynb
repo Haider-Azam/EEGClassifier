{
 "cells": [
  {
   "cell_type": "code",
   "execution_count": 1,
   "metadata": {},
   "outputs": [
    {
     "name": "stdout",
     "output_type": "stream",
     "text": [
      "Tensorflow not install, you could not use those pipelines\n"
     ]
    }
   ],
   "source": [
    "import numpy as np\n",
    "import torch\n",
    "import scipy\n",
    "from torch import nn\n",
    "from torch.nn.functional import elu,relu,leaky_relu\n",
    "import torchvision.transforms as transform\n",
    "import braindecode \n",
    "from braindecode.models import *\n",
    "from braindecode.models.modules import Expression\n",
    "from braindecode.models.functions import squeeze_final_output\n",
    "from braindecode.datasets import BaseDataset, BaseConcatDataset,create_from_X_y\n",
    "from braindecode.models.util import to_dense_prediction_model, get_output_shape\n",
    "import pandas as pd\n",
    "import resampy\n",
    "from skorch.dataset import Dataset\n",
    "from skorch.callbacks import Checkpoint,ProgressBar\n",
    "from skorch.helper import predefined_split\n",
    "from config import *\n",
    "from dataset import *\n",
    "from braindecode.preprocessing import create_fixed_length_windows\n",
    "from mne import set_log_level\n",
    "set_log_level(False)\n",
    "device = 'cuda' if cuda else 'cpu'"
   ]
  },
  {
   "cell_type": "code",
   "execution_count": 2,
   "metadata": {},
   "outputs": [],
   "source": [
    "preproc_functions = []\n",
    "preproc_functions.append( lambda data, fs: (data[:, int(sec_to_cut * fs):-int(sec_to_cut * fs)], fs))\n",
    "preproc_functions.append(lambda data, fs: (data[:, :int(duration_recording_mins * 60 * fs)], fs))\n",
    "if max_abs_val is not None:\n",
    "    preproc_functions.append(lambda data, fs:(np.clip(data, -max_abs_val, max_abs_val), fs))\n",
    "preproc_functions.append(lambda data, fs: (resampy.resample(data, fs,sampling_freq,axis=1,filter='kaiser_fast'),sampling_freq))\n",
    "if divisor is not None:\n",
    "    preproc_functions.append(lambda data, fs: (data / divisor, fs))\n",
    "dataset = DiagnosisSet(n_recordings=n_recordings,\n",
    "                           max_recording_mins=max_recording_mins,\n",
    "                           preproc_functions=preproc_functions,\n",
    "                           data_folders=data_folders,\n",
    "                           train_or_eval='train',\n",
    "                           sensor_types=sensor_types)\n",
    "if test_on_eval:\n",
    "    test_dataset = DiagnosisSet(n_recordings=n_recordings,\n",
    "                           max_recording_mins=max_recording_mins,\n",
    "                           preproc_functions=preproc_functions,\n",
    "                           data_folders=data_folders,\n",
    "                           train_or_eval='eval',\n",
    "                           sensor_types=sensor_types)"
   ]
  },
  {
   "cell_type": "code",
   "execution_count": 3,
   "metadata": {},
   "outputs": [],
   "source": [
    "#To get timesteps, we can use numpy.reshape\n",
    "def create_windows(X,y,stride=sampling_freq):\n",
    "    no_of_trials=0\n",
    "    trials=[]\n",
    "    labels=[]\n",
    "    for i in range(len(X)):\n",
    "        no_of_trials+=((X[i].shape[1]-input_time_length)//stride)-1\n",
    "\n",
    "    trials=np.zeros(shape=(no_of_trials,21,6000),dtype=np.float32)\n",
    "    position=0\n",
    "    for i in range(len(X)):\n",
    "        windows=[]\n",
    "        no_of_windows=((X[i].shape[1]-input_time_length)//stride)-1\n",
    "        for j in range(no_of_windows):\n",
    "            windows.append(X[i][:,j*stride:j*stride+input_time_length])\n",
    "            labels.append(y[i])\n",
    "        trials[position:position+no_of_windows]=np.array(windows)\n",
    "        position+=no_of_windows\n",
    "    labels=np.array(labels)\n",
    "    return trials,labels"
   ]
  },
  {
   "cell_type": "code",
   "execution_count": 4,
   "metadata": {},
   "outputs": [],
   "source": [
    "#Numpy array doesn't work as they take too much space, use BaseConcatDataset instead\n",
    "#BaseConcatDataset does work recursively with itself.\n",
    "X,y=dataset.load()\n",
    "if test_on_eval:\n",
    "    test_x,test_y=test_dataset.load()"
   ]
  },
  {
   "cell_type": "code",
   "execution_count": null,
   "metadata": {},
   "outputs": [
    {
     "data": {
      "text/plain": [
       "\"\\nMethods of data augmentation:-\\nTime Warping: This involves stretching or compressing the time axis. In time-series analysis, it can lead to a better understanding of variations in time.\\nMathematical Explanation:\\nx′(t)=x(a⋅t)\\nwhere a is the warping factor.\\nWindow Slicing: Similar to cropping, but with fixed-size windows. Overlapping windows can also be used to increase the amount of data.\\nTime Masking: Certain time steps are masked (set to zero or mean value), which can help the model become more robust to missing data.\\nNoise Injection: Random noise can be added to the sequence, aiding the model in learning to ignore irrelevant variations.\\nMathematical Explanation:\\nx′(t)=x(t)+N(0,σ2)\\nwhere N(0,σ2) is Gaussian noise with mean 0 and variance σ2.\\nData Mixing: By mixing two or more sequences, you can create a new sequence. For instance, in audio processing, overlaying two sound tracks.\\nTemporal Jittering: It involves adding small random shifts to the temporal alignment of the sequence. It's often used in speech and audio processing.\\nSequence-to-sequence Transformation: This involves applying complex transformations like Fourier transform followed by an inverse transformation after modifications in the frequency domain.\\nMathematical Explanation:\\nX′=F−1(F(X)+N)\\nwhere F and F−1 are the Fourier and inverse Fourier transforms, and N is a noise term.\\n\""
      ]
     },
     "execution_count": 5,
     "metadata": {},
     "output_type": "execute_result"
    }
   ],
   "source": [
    "'''\n",
    "Methods of data augmentation:-\n",
    "Time Warping: This involves stretching or compressing the time axis. In time-series analysis, it can lead to a better understanding of variations in time.\n",
    "Mathematical Explanation:\n",
    "x′(t)=x(a⋅t)\n",
    "where a is the warping factor.\n",
    "Window Slicing: Similar to cropping, but with fixed-size windows. Overlapping windows can also be used to increase the amount of data.\n",
    "Time Masking: Certain time steps are masked (set to zero or mean value), which can help the model become more robust to missing data.\n",
    "Noise Injection: Random noise can be added to the sequence, aiding the model in learning to ignore irrelevant variations.\n",
    "Mathematical Explanation:\n",
    "x′(t)=x(t)+N(0,σ2)\n",
    "where N(0,σ2) is Gaussian noise with mean 0 and variance σ2.\n",
    "Data Mixing: By mixing two or more sequences, you can create a new sequence. For instance, in audio processing, overlaying two sound tracks.\n",
    "Temporal Jittering: It involves adding small random shifts to the temporal alignment of the sequence. It's often used in speech and audio processing.\n",
    "Sequence-to-sequence Transformation: This involves applying complex transformations like Fourier transform followed by an inverse transformation after modifications in the frequency domain.\n",
    "Mathematical Explanation:\n",
    "X′=F−1(F(X)+N)\n",
    "where F and F−1 are the Fourier and inverse Fourier transforms, and N is a noise term.\n",
    "'''"
   ]
  },
  {
   "cell_type": "code",
   "execution_count": null,
   "metadata": {},
   "outputs": [],
   "source": [
    "del divisor,max_abs_val,sec_to_cut,duration_recording_mins,preproc_functions,data_folders\n",
    "def create_set(X, y, inds):\n",
    "    \"\"\"\n",
    "    X list and y nparray\n",
    "    :return: \n",
    "    \"\"\"\n",
    "    new_X = []\n",
    "    for i in inds:\n",
    "        new_X.append(X[i])\n",
    "    new_y = y[inds]\n",
    "    return (new_X, new_y)\n",
    "#Use of TrainValidTestSplitter is not necessary in newer versions of braindecode\n",
    "class TrainValidSplitter(object):\n",
    "    def __init__(self, n_folds, i_valid_fold, shuffle):\n",
    "        self.n_folds = n_folds\n",
    "        self.i_valid_fold = i_valid_fold\n",
    "        self.rng = np.random.RandomState(39483948)\n",
    "        self.shuffle = shuffle\n",
    "\n",
    "    def split(self, X, y):\n",
    "        if len(X) < self.n_folds:\n",
    "            raise ValueError(\"Less Trials: {:d} than folds: {:d}\".format(\n",
    "                len(X), self.n_folds\n",
    "            ))\n",
    "        indices=np.arange(len(y))\n",
    "        #Compared to paper, the valid set will be unbalanced\n",
    "        batch_size=len(X)//self.n_folds\n",
    "        if self.shuffle:\n",
    "            self.rng.shuffle(indices)\n",
    "        valid_inds=indices[self.i_valid_fold*batch_size:(self.i_valid_fold+1)*batch_size]\n",
    "        train_inds = np.setdiff1d(indices,valid_inds)\n",
    "        train_set = create_set(X, y, train_inds)\n",
    "        valid_set = create_set(X, y, valid_inds)\n",
    "        return train_set, valid_set"
   ]
  },
  {
   "cell_type": "code",
   "execution_count": null,
   "metadata": {},
   "outputs": [],
   "source": [
    "if test_on_eval==False:\n",
    "    splitter=TrainValidSplitter(n_folds,i_test_fold,True)\n",
    "    train_set,valid_set=splitter.split(X,y)\n",
    "    del X,y\n",
    "    X,y=train_set\n",
    "    valid_X,valid_y=valid_set\n",
    "    del n_folds,i_test_fold,train_set,valid_set"
   ]
  },
  {
   "cell_type": "code",
   "execution_count": null,
   "metadata": {},
   "outputs": [],
   "source": [
    "#This block will be used to separate the abnormal and normal training trials\n",
    "abnormal_indexes=np.nonzero(y)[0][::-1]\n",
    "abnormal=[]\n",
    "for i in abnormal_indexes:\n",
    "    abnormal.append(X.pop(i))\n",
    "abnormal_labels=y[i:]\n",
    "y=y[:i]\n",
    "del abnormal_indexes"
   ]
  },
  {
   "cell_type": "code",
   "execution_count": null,
   "metadata": {},
   "outputs": [
    {
     "name": "stdout",
     "output_type": "stream",
     "text": [
      "normal cases:1396\n",
      "abnormal cases:274\n",
      "5\n"
     ]
    }
   ],
   "source": [
    "print(f\"normal cases:{len(y)}\")\n",
    "print(f\"abnormal cases:{len(abnormal_labels)}\")\n",
    "print(len(y)//len(abnormal_labels))"
   ]
  },
  {
   "cell_type": "code",
   "execution_count": null,
   "metadata": {},
   "outputs": [],
   "source": [
    "ch_names=['A1', 'A2', 'C3', 'C4', 'CZ', 'F3', 'F4', 'F7', 'F8', 'FP1','FP2', 'FZ', 'O1', 'O2','P3', 'P4', 'PZ', 'T3', 'T4', 'T5', 'T6']\n",
    "#we take a 10 second stride as 1 second stride takes too long\n",
    "stride=sampling_freq*10\n",
    "train_set=create_from_X_y(X,y,sfreq=sampling_freq,drop_last_window=True,ch_names=ch_names,window_size_samples=input_time_length,\n",
    "                       window_stride_samples=stride)\n",
    "if test_on_eval==False:\n",
    "    valid_set=create_from_X_y(valid_X,valid_y,sfreq=sampling_freq,drop_last_window=True,ch_names=ch_names,window_size_samples=input_time_length,\n",
    "                        window_stride_samples=sampling_freq)\n",
    "    del valid_X,valid_y\n",
    "elif test_on_eval:\n",
    "    test_set=create_from_X_y(test_x,test_y,sfreq=sampling_freq,drop_last_window=True,ch_names=ch_names,window_size_samples=input_time_length,\n",
    "                        window_stride_samples=sampling_freq)\n",
    "    del test_x,test_y\n",
    "del X,y"
   ]
  },
  {
   "cell_type": "code",
   "execution_count": null,
   "metadata": {},
   "outputs": [],
   "source": [
    "abnormal_train_set=create_from_X_y(abnormal,abnormal_labels,sfreq=sampling_freq,drop_last_window=True,ch_names=ch_names\n",
    "                            ,window_size_samples=input_time_length,window_stride_samples=sampling_freq)\n",
    "del abnormal,abnormal_labels,stride,ch_names"
   ]
  },
  {
   "cell_type": "code",
   "execution_count": null,
   "metadata": {},
   "outputs": [
    {
     "name": "stdout",
     "output_type": "stream",
     "text": [
      "normal windows:72722\n",
      "abnormal windows:142814\n"
     ]
    }
   ],
   "source": [
    "print(f\"normal windows:{len(train_set)}\")\n",
    "print(f\"abnormal windows:{len(abnormal_train_set)}\")"
   ]
  },
  {
   "cell_type": "code",
   "execution_count": null,
   "metadata": {},
   "outputs": [],
   "source": [
    "train_set=BaseConcatDataset([abnormal_train_set,train_set])\n",
    "del abnormal_train_set"
   ]
  },
  {
   "cell_type": "code",
   "execution_count": null,
   "metadata": {},
   "outputs": [
    {
     "name": "stdout",
     "output_type": "stream",
     "text": [
      "torch.Size([7, 2])\n",
      "shallow\n"
     ]
    }
   ],
   "source": [
    "n_classes = 2\n",
    "if model_name==\"shallow\":\n",
    "    optimizer_lr = 0.0000625\n",
    "    optimizer_weight_decay = 0\n",
    "    #The final conv length is auto to ensure that output will give two values for single EEG window\n",
    "    model = ShallowFBCSPNet(n_chans,\n",
    "                                    n_classes,\n",
    "                                    n_filters_time=n_start_chans,\n",
    "                                    n_filters_spat=n_start_chans,\n",
    "                                    input_window_samples=input_time_length,\n",
    "                                    final_conv_length='auto',)\n",
    "    test=torch.ones(size=(7,21,6000))\n",
    "    out=model.forward(test)\n",
    "    print(out.shape)\n",
    "elif model_name==\"deep\":\n",
    "    optimizer_lr = init_lr\n",
    "    optimizer_weight_decay = 0\n",
    "    model = Deep4Net(n_chans, n_classes,\n",
    "                         n_filters_time=n_start_chans,\n",
    "                         n_filters_spat=n_start_chans,\n",
    "                         input_window_samples=input_time_length,\n",
    "                         n_filters_2 = int(n_start_chans * n_chan_factor),\n",
    "                         n_filters_3 = int(n_start_chans * (n_chan_factor ** 2.0)),\n",
    "                         n_filters_4 = int(n_start_chans * (n_chan_factor ** 3.0)),\n",
    "                         final_conv_length='auto',\n",
    "                        stride_before_pool=True)\n",
    "    test=torch.ones(size=(7,21,6000,1))\n",
    "    out=model.forward(test)\n",
    "    print(out.shape)\n",
    "elif model_name==\"deep_smac\" or model_name == 'deep_smac_bnorm':\n",
    "    optimizer_lr = init_lr\n",
    "    if model_name == 'deep_smac':\n",
    "            do_batch_norm = False\n",
    "    else:\n",
    "        do_batch_norm = True\n",
    "    double_time_convs = False\n",
    "    drop_prob = 0.244445\n",
    "    filter_length_2 = 12\n",
    "    filter_length_3 = 14\n",
    "    filter_length_4 = 32\n",
    "    filter_time_length = 21\n",
    "    #final_conv_length = 1\n",
    "    first_nonlin = elu\n",
    "    first_pool_mode = 'mean'\n",
    "    later_nonlin = elu\n",
    "    later_pool_mode = 'mean'\n",
    "    n_filters_factor = 1.679066\n",
    "    n_filters_start = 32\n",
    "    pool_time_length = 1\n",
    "    pool_time_stride = 2\n",
    "    split_first_layer = True\n",
    "    n_chan_factor = n_filters_factor\n",
    "    n_start_chans = n_filters_start\n",
    "    model = Deep4Net(n_chans, n_classes,\n",
    "            n_filters_time=n_start_chans,\n",
    "            n_filters_spat=n_start_chans,\n",
    "            input_window_samples=input_time_length,\n",
    "            n_filters_2=int(n_start_chans * n_chan_factor),\n",
    "            n_filters_3=int(n_start_chans * (n_chan_factor ** 2.0)),\n",
    "            n_filters_4=int(n_start_chans * (n_chan_factor ** 3.0)),\n",
    "            final_conv_length='auto',\n",
    "            batch_norm=do_batch_norm,\n",
    "            drop_prob=drop_prob,\n",
    "            filter_length_2=filter_length_2,\n",
    "            filter_length_3=filter_length_3,\n",
    "            filter_length_4=filter_length_4,\n",
    "            filter_time_length=filter_time_length,\n",
    "            first_conv_nonlin=first_nonlin,\n",
    "            first_pool_mode=first_pool_mode,\n",
    "            later_conv_nonlin=later_nonlin,\n",
    "            later_pool_mode=later_pool_mode,\n",
    "            pool_time_length=pool_time_length,\n",
    "            pool_time_stride=pool_time_stride,\n",
    "            split_first_layer=split_first_layer,\n",
    "            stride_before_pool=True)\n",
    "    test=torch.ones(size=(6,21,6000,1))\n",
    "    out=model.forward(test)\n",
    "    print(out.shape)\n",
    "    del do_batch_norm,double_time_convs,drop_prob,filter_length_2,filter_length_3,filter_length_4,filter_time_length,first_nonlin,n_chan_factor,n_start_chans,first_pool_mode,later_nonlin,later_pool_mode,n_filters_factor,n_filters_start,pool_time_length,pool_time_stride,split_first_layer\n",
    "#Works properly, fit the hybrid cnn\n",
    "elif model_name==\"hybrid\":\n",
    "    optimizer_lr = init_lr\n",
    "    optimizer_weight_decay = 0\n",
    "    #The final conv length is auto to ensure that output will give two values for single EEG window\n",
    "    model = HybridNet(n_chans, n_classes,input_window_samples=input_time_length,)\n",
    "    test=torch.ones(size=(2,21,6000))\n",
    "    out=model.forward(test)\n",
    "    out_length=out.shape[2]\n",
    "    model.final_conv=nn.Conv2d(100,n_classes,(out_length,1),bias=True,)\n",
    "    model=nn.Sequential(model,Expression(torch.squeeze))\n",
    "    out=model.forward(test)\n",
    "    print(out.shape)\n",
    "    del out_length\n",
    "elif model_name==\"TCN\":\n",
    "    import warnings\n",
    "    #This disables the warning of the dropout2d layers receiving 3d input\n",
    "    warnings.filterwarnings(\"ignore\")\n",
    "    optimizer_lr = init_lr\n",
    "    optimizer_weight_decay = 0\n",
    "    n_blocks=7\n",
    "    n_filters=32\n",
    "    kernel_size=24\n",
    "    drop_prob = 0.3\n",
    "    add_log_softmax=False\n",
    "    x=TCN(n_chans,n_classes,n_blocks,n_filters,kernel_size,drop_prob,add_log_softmax)\n",
    "    test=torch.ones(size=(7,21,6000,1))\n",
    "    out=x.forward(test)\n",
    "    print(out.shape)\n",
    "    out_length=out.shape[2]\n",
    "    #There is no hyperparameter where output of TCN is (Batch_Size,Classes) when input is (Batch_Size,21,6000) so add new layers to meet size\n",
    "    model=nn.Sequential(x,nn.Conv1d(n_classes,n_classes,out_length,bias=True,),Expression(torch.squeeze),nn.LogSoftmax(dim=1))\n",
    "    out=model.forward(test)\n",
    "    print(out.shape)\n",
    "    del out_length,x\n",
    "if cuda:\n",
    "    model.cuda()\n",
    "del test,out\n",
    "print(model_name)"
   ]
  },
  {
   "cell_type": "code",
   "execution_count": null,
   "metadata": {},
   "outputs": [
    {
     "data": {
      "text/plain": [
       "ShallowFBCSPNet(\n",
       "  (ensuredims): Ensure4d()\n",
       "  (dimshuffle): Expression(expression=transpose_time_to_spat) \n",
       "  (conv_time): Conv2d(1, 25, kernel_size=(25, 1), stride=(1, 1))\n",
       "  (conv_spat): Conv2d(25, 25, kernel_size=(1, 21), stride=(1, 1), bias=False)\n",
       "  (bnorm): BatchNorm2d(25, eps=1e-05, momentum=0.1, affine=True, track_running_stats=True)\n",
       "  (conv_nonlin_exp): Expression(expression=square) \n",
       "  (pool): AvgPool2d(kernel_size=(75, 1), stride=(15, 1), padding=0)\n",
       "  (pool_nonlin_exp): Expression(expression=safe_log) \n",
       "  (drop): Dropout(p=0.5, inplace=False)\n",
       "  (conv_classifier): Conv2d(25, 2, kernel_size=(394, 1), stride=(1, 1))\n",
       "  (softmax): LogSoftmax(dim=1)\n",
       "  (squeeze): Expression(expression=squeeze_final_output) \n",
       ")"
      ]
     },
     "execution_count": 15,
     "metadata": {},
     "output_type": "execute_result"
    }
   ],
   "source": [
    "model"
   ]
  },
  {
   "cell_type": "code",
   "execution_count": null,
   "metadata": {},
   "outputs": [],
   "source": [
    "monitor = lambda net: any(net.history[-1, ('valid_accuracy_best','valid_f1_best','valid_loss_best')])\n",
    "cp=Checkpoint(monitor='valid_f1_best',dirname='model',f_params=f'{model_name}best_param.pkl',\n",
    "               f_optimizer=f'{model_name}best_opt.pkl', f_history=f'{model_name}best_history.json')\n",
    "if test_on_eval==False:\n",
    "    classifier = braindecode.EEGClassifier(\n",
    "        model,\n",
    "        criterion=torch.nn.NLLLoss,\n",
    "        optimizer=torch.optim.AdamW,\n",
    "        train_split=predefined_split(valid_set),\n",
    "        optimizer__lr=optimizer_lr,\n",
    "        #optimizer__weight_decay=optimizer_weight_decay,\n",
    "        iterator_train__shuffle=True,\n",
    "        batch_size=batch_size,\n",
    "        device=device,\n",
    "        callbacks=[\"accuracy\",\"f1\",cp],#Try ‘roc_auc’\n",
    "        warm_start=True,\n",
    "        )\n",
    "elif test_on_eval:\n",
    "    classifier = braindecode.EEGClassifier(\n",
    "        model,\n",
    "        criterion=torch.nn.NLLLoss,\n",
    "        optimizer=torch.optim.AdamW,\n",
    "        train_split=predefined_split(test_set),\n",
    "        optimizer__lr=optimizer_lr,\n",
    "        #optimizer__weight_decay=optimizer_weight_decay,\n",
    "        iterator_train__shuffle=True,\n",
    "        batch_size=batch_size,\n",
    "        device=device,\n",
    "        callbacks=[\"accuracy\",\"f1\",cp],#Try ‘roc_auc’\n",
    "        warm_start=True,\n",
    "        )\n",
    "classifier.initialize()\n",
    "del model"
   ]
  },
  {
   "cell_type": "code",
   "execution_count": 17,
   "metadata": {},
   "outputs": [],
   "source": [
    "path=f'{model_name}II'"
   ]
  },
  {
   "cell_type": "code",
   "execution_count": null,
   "metadata": {},
   "outputs": [],
   "source": [
    "#Loads Phase 1 parameters and fit them further in phase 2\n",
    "path=f'{model_name}'\n",
    "if test_on_eval:\n",
    "    classifier.load_params(\n",
    "        f_params=f'model/{path}_param.pkl', f_optimizer=f'model/{path}_opt.pkl', f_history=f'model/{path}_history.json')\n",
    "    print(\"Paramters Loaded\")\n",
    "    path=f'{model_name}II'"
   ]
  },
  {
   "cell_type": "code",
   "execution_count": null,
   "metadata": {},
   "outputs": [
    {
     "name": "stdout",
     "output_type": "stream",
     "text": [
      "Paramters Loaded\n"
     ]
    }
   ],
   "source": [
    "if test_on_eval:\n",
    "    path=f'{model_name}II'\n",
    "elif test_on_eval==False:\n",
    "    path=f'{model_name}'\n",
    "try:\n",
    "    classifier.load_params(\n",
    "        f_params=f'model/{path}_param.pkl', f_optimizer=f'model/{path}_opt.pkl', f_history=f'model/{path}_history.json')\n",
    "    print(\"Paramters Loaded\")\n",
    "except:\n",
    "    pass"
   ]
  },
  {
   "cell_type": "code",
   "execution_count": 18,
   "metadata": {},
   "outputs": [
    {
     "data": {
      "text/plain": [
       "[]"
      ]
     },
     "execution_count": 18,
     "metadata": {},
     "output_type": "execute_result"
    }
   ],
   "source": [
    "#Shows the history of training the neural network\n",
    "classifier.history_"
   ]
  },
  {
   "cell_type": "code",
   "execution_count": null,
   "metadata": {},
   "outputs": [
    {
     "name": "stdout",
     "output_type": "stream",
     "text": [
      "      4            \u001b[36m0.9096\u001b[0m      \u001b[32m0.9331\u001b[0m        \u001b[35m0.3299\u001b[0m            0.7585      0.7473        0.5832        2612.3975\n"
     ]
    },
    {
     "data": {
      "text/plain": [
       "<class 'braindecode.classifier.EEGClassifier'>[initialized](\n",
       "  module_=ShallowFBCSPNet(\n",
       "    (ensuredims): Ensure4d()\n",
       "    (dimshuffle): Expression(expression=transpose_time_to_spat) \n",
       "    (conv_time): Conv2d(1, 25, kernel_size=(25, 1), stride=(1, 1))\n",
       "    (conv_spat): Conv2d(25, 25, kernel_size=(1, 21), stride=(1, 1), bias=False)\n",
       "    (bnorm): BatchNorm2d(25, eps=1e-05, momentum=0.1, affine=True, track_running_stats=True)\n",
       "    (conv_nonlin_exp): Expression(expression=square) \n",
       "    (pool): AvgPool2d(kernel_size=(75, 1), stride=(15, 1), padding=0)\n",
       "    (pool_nonlin_exp): Expression(expression=safe_log) \n",
       "    (drop): Dropout(p=0.5, inplace=False)\n",
       "    (conv_classifier): Conv2d(25, 2, kernel_size=(394, 1), stride=(1, 1))\n",
       "    (softmax): LogSoftmax(dim=1)\n",
       "    (squeeze): Expression(expression=squeeze_final_output) \n",
       "  ),\n",
       ")"
      ]
     },
     "execution_count": 25,
     "metadata": {},
     "output_type": "execute_result"
    }
   ],
   "source": [
    "classifier.fit(train_set,y=None,epochs=4)"
   ]
  },
  {
   "cell_type": "code",
   "execution_count": 26,
   "metadata": {},
   "outputs": [],
   "source": [
    "classifier.save_params(\n",
    "    f_params=f'model/{path}_param.pkl', f_optimizer=f'model/{path}_opt.pkl', f_history=f'model/{path}_history.json')\n",
    "#torch.save({\"model\":classifier.module_.state_dict(),\"optimizer\":classifier.optimizer_.state_dict()}, path)"
   ]
  },
  {
   "cell_type": "code",
   "execution_count": null,
   "metadata": {},
   "outputs": [],
   "source": [
    "if test_on_eval==False:\n",
    "    pred_labels=classifier.predict(valid_set)\n",
    "    actual_labels=[label[1] for label in valid_set]\n",
    "elif test_on_eval:\n",
    "    pred_labels=classifier.predict(test_set)\n",
    "    actual_labels=[label[1] for label in test_set]\n",
    "actual_labels=np.array(actual_labels)\n",
    "accuracy=np.mean(pred_labels==actual_labels)\n",
    "print(f\"Accuracy:{accuracy}\")\n",
    "tp=np.sum(pred_labels*actual_labels)\n",
    "precision=tp/np.sum(pred_labels)\n",
    "recall=tp/np.sum(actual_labels)\n",
    "f1=2*precision*recall/(precision+recall)\n",
    "print(f\"F1-Score:{f1}\")"
   ]
  },
  {
   "cell_type": "code",
   "execution_count": null,
   "metadata": {},
   "outputs": [],
   "source": [
    "#Test the model on proper test set according to paper\n",
    "if test_on_eval:\n",
    "    try:\n",
    "        del train_set,test_set\n",
    "    except:\n",
    "        pass\n",
    "    test_x,test_y=test_dataset.load()\n",
    "    ch_names=['A1', 'A2', 'C3', 'C4', 'CZ', 'F3', 'F4', 'F7', 'F8', 'FP1','FP2', 'FZ', 'O1', 'O2','P3', 'P4', 'PZ', 'T3', 'T4', 'T5', 'T6']\n",
    "    #Stride between windows is set to sampling frequency as written in paper\n",
    "    test_set=create_from_X_y(test_x,test_y,sfreq=sampling_freq,drop_last_window=True,ch_names=ch_names,window_size_samples=input_time_length,\n",
    "                        window_stride_samples=sampling_freq)\n",
    "    del test_x,test_y"
   ]
  },
  {
   "cell_type": "code",
   "execution_count": null,
   "metadata": {},
   "outputs": [],
   "source": [
    "if test_on_eval:    \n",
    "    pred_labels=classifier.predict(test_set)\n",
    "    actual_labels=[label[1] for label in test_set]\n",
    "    actual_labels=np.array(actual_labels)\n",
    "    accuracy=np.mean(pred_labels==actual_labels)\n",
    "    print(f\"Accuracy:{accuracy}\")\n",
    "    tp=np.sum(pred_labels*actual_labels)\n",
    "    precision=tp/np.sum(pred_labels)\n",
    "    recall=tp/np.sum(actual_labels)\n",
    "    f1=2*precision*recall/(precision+recall)\n",
    "    print(f\"F1-Score:{f1}\") "
   ]
  },
  {
   "cell_type": "code",
   "execution_count": 5,
   "metadata": {},
   "outputs": [
    {
     "name": "stdout",
     "output_type": "stream",
     "text": [
      "Paramters Loaded\n"
     ]
    }
   ],
   "source": [
    "#This will load the model and parameters and then replace it with one whose classification layer is removed\n",
    "from skorch import NeuralNet\n",
    "network=NeuralNet(module=model,criterion=torch.nn.modules.loss.NLLLoss,batch_size=batch_size,device=device)\n",
    "network.initialize()\n",
    "network.load_params(\n",
    "    f_params=f'model/{model_name}best_param.pkl', f_optimizer=f'model/{model_name}best_opt.pkl', f_history=f'model/{model_name}best_history.json')\n",
    "print(\"Paramters Loaded\")\n",
    "network.module_=torch.nn.Sequential(*(list(network.module_.children())[:-3]),nn.modules.Flatten())"
   ]
  },
  {
   "cell_type": "code",
   "execution_count": 6,
   "metadata": {},
   "outputs": [
    {
     "data": {
      "text/plain": [
       "Sequential(\n",
       "  (0): Ensure4d()\n",
       "  (1): Expression(expression=transpose_time_to_spat) \n",
       "  (2): Conv2d(1, 32, kernel_size=(21, 1), stride=(1, 1))\n",
       "  (3): Conv2d(32, 32, kernel_size=(1, 21), stride=(2, 1), bias=False)\n",
       "  (4): BatchNorm2d(32, eps=1e-05, momentum=0.1, affine=True, track_running_stats=True)\n",
       "  (5): Expression(expression=elu) \n",
       "  (6): AvgPool2dWithConv()\n",
       "  (7): Expression(expression=identity) \n",
       "  (8): Dropout(p=0.244445, inplace=False)\n",
       "  (9): Conv2d(32, 53, kernel_size=(12, 1), stride=(2, 1), bias=False)\n",
       "  (10): BatchNorm2d(53, eps=1e-05, momentum=0.1, affine=True, track_running_stats=True)\n",
       "  (11): Expression(expression=elu) \n",
       "  (12): AvgPool2dWithConv()\n",
       "  (13): Expression(expression=identity) \n",
       "  (14): Dropout(p=0.244445, inplace=False)\n",
       "  (15): Conv2d(53, 90, kernel_size=(14, 1), stride=(2, 1), bias=False)\n",
       "  (16): BatchNorm2d(90, eps=1e-05, momentum=0.1, affine=True, track_running_stats=True)\n",
       "  (17): Expression(expression=elu) \n",
       "  (18): AvgPool2dWithConv()\n",
       "  (19): Expression(expression=identity) \n",
       "  (20): Dropout(p=0.244445, inplace=False)\n",
       "  (21): Conv2d(90, 151, kernel_size=(30, 1), stride=(2, 1), bias=False)\n",
       "  (22): BatchNorm2d(151, eps=1e-05, momentum=0.1, affine=True, track_running_stats=True)\n",
       "  (23): Expression(expression=elu) \n",
       "  (24): AvgPool2dWithConv()\n",
       "  (25): Expression(expression=identity) \n",
       "  (26): Flatten(start_dim=1, end_dim=-1)\n",
       ")"
      ]
     },
     "execution_count": 6,
     "metadata": {},
     "output_type": "execute_result"
    }
   ],
   "source": [
    "network.module_"
   ]
  },
  {
   "cell_type": "code",
   "execution_count": 7,
   "metadata": {},
   "outputs": [
    {
     "name": "stdout",
     "output_type": "stream",
     "text": [
      "53605\n"
     ]
    }
   ],
   "source": [
    "test=torch.ones(size=(2,21,6000))\n",
    "feat=network.predict(test).shape[1]\n",
    "print(feat)\n",
    "del test"
   ]
  },
  {
   "cell_type": "code",
   "execution_count": 8,
   "metadata": {},
   "outputs": [],
   "source": [
    "#Loads dataset, finds smallest trial, with this, we find number of windows using stride and convert it to array of windows of trials\n",
    "#shape is (no_of_trials,no_of_windows,channels,input_time_length) in the end\n",
    "X,y=dataset.load()\n",
    "test_x,test_y=test_dataset.load()"
   ]
  },
  {
   "cell_type": "code",
   "execution_count": 9,
   "metadata": {},
   "outputs": [],
   "source": [
    "abnormal_indexes=np.nonzero(y)[0][::-1]\n",
    "abnormal=[]\n",
    "for i in abnormal_indexes:\n",
    "    abnormal.append(X.pop(i))\n",
    "abnormal_labels=y[i:]\n",
    "y=y[:i]\n",
    "del abnormal_indexes"
   ]
  },
  {
   "cell_type": "code",
   "execution_count": 10,
   "metadata": {},
   "outputs": [],
   "source": [
    "#Counting normal trials windows\n",
    "no_of_trials=0\n",
    "stride=sampling_freq*10\n",
    "for i in range(len(X)):\n",
    "    no_of_trials+=((X[i].shape[1]-input_time_length)//stride)-1\n",
    "#Counting abnormal trials windows\n",
    "abstride=sampling_freq*10\n",
    "for i in range(len(abnormal)):\n",
    "    no_of_trials+=((abnormal[i].shape[1]-input_time_length)//abstride)-1\n",
    "features=np.zeros(shape=(no_of_trials,feat),dtype=np.float32)\n",
    "labels=[]\n",
    "position=0\n",
    "#Normal features\n",
    "for i in range(len(X)):\n",
    "    windows=[]\n",
    "    no_of_windows=((X[i].shape[1]-input_time_length)//stride)-1\n",
    "    for j in range(no_of_windows):\n",
    "        windows.append(X[i][:,j*stride:j*stride+input_time_length])\n",
    "        labels.append(y[i])\n",
    "    windows=np.array(windows)\n",
    "    features[position:position+no_of_windows]=network.predict(windows)\n",
    "    position+=no_of_windows\n",
    "del i,j,no_of_windows,X,y,windows\n",
    "#Abnormal features\n",
    "for i in range(len(abnormal)):\n",
    "    windows=[]\n",
    "    no_of_windows=((abnormal[i].shape[1]-input_time_length)//abstride)-1\n",
    "    for j in range(no_of_windows):\n",
    "        windows.append(abnormal[i][:,j*abstride:j*abstride+input_time_length])\n",
    "        labels.append(abnormal_labels[i])\n",
    "    windows=np.array(windows)\n",
    "    features[position:position+no_of_windows]=network.predict(windows)\n",
    "    position+=no_of_windows\n",
    "del i,j,no_of_windows,abnormal,abnormal_labels,windows\n",
    "labels=np.array(labels)"
   ]
  },
  {
   "cell_type": "code",
   "execution_count": null,
   "metadata": {},
   "outputs": [],
   "source": [
    "#This saves the features along with labels of each trial in a .mat file\n",
    "scipy.io.savemat(\"E:/train_features.mat\",{\"x\":features,\"y\":labels})\n",
    "del features,labels"
   ]
  },
  {
   "cell_type": "code",
   "execution_count": 11,
   "metadata": {},
   "outputs": [],
   "source": [
    "no_of_trials=0\n",
    "#Test set must match test set from paper as much as possible\n",
    "stride=sampling_freq*2\n",
    "for i in range(len(test_x)):\n",
    "    no_of_trials+=((test_x[i].shape[1]-input_time_length)//stride)-1\n",
    "test_features=np.zeros(shape=(no_of_trials,feat),dtype=np.float32)\n",
    "test_labels=[]\n",
    "position=0\n",
    "for i in range(len(test_x)):\n",
    "    windows=[]\n",
    "    no_of_windows=((test_x[i].shape[1]-input_time_length)//stride)-1\n",
    "    for j in range(no_of_windows):\n",
    "        windows.append(test_x[i][:,j*stride:j*stride+input_time_length])\n",
    "        test_labels.append(test_y[i])\n",
    "    windows=np.array(windows)\n",
    "    test_features[position:position+no_of_windows]=network.predict(windows)\n",
    "    position+=no_of_windows\n",
    "del i,j,no_of_windows,test_x,test_y,windows\n",
    "test_labels=np.array(test_labels)"
   ]
  },
  {
   "cell_type": "code",
   "execution_count": null,
   "metadata": {},
   "outputs": [],
   "source": [
    "scipy.io.savemat(\"E:/test_features.mat\",{\"x\":test_features,\"y\":test_labels})\n",
    "del test_features,test_labels"
   ]
  },
  {
   "cell_type": "code",
   "execution_count": null,
   "metadata": {},
   "outputs": [],
   "source": [
    "import scipy\n",
    "import numpy as np\n",
    "inputs=scipy.io.loadmat(\"E:/train_features.mat\")\n",
    "features=inputs[\"x\"]\n",
    "labels=inputs[\"y\"].squeeze()\n",
    "del inputs"
   ]
  },
  {
   "cell_type": "code",
   "execution_count": 12,
   "metadata": {},
   "outputs": [],
   "source": [
    "#t variable determines timesteps for hybrid model\n",
    "t=7\n",
    "f=features.shape[-1]\n",
    "features=features[:(len(labels)//t)*t].reshape((len(labels)//t,t,f))\n",
    "labels=labels[:(len(labels)//t)*t].reshape((len(labels)//t,t))[:,0]"
   ]
  },
  {
   "cell_type": "code",
   "execution_count": 13,
   "metadata": {},
   "outputs": [],
   "source": [
    "class SimpleModel(torch.nn.Module):\n",
    "  def __init__(self,input_features):\n",
    "    super().__init__()\n",
    "    self.lstm = torch.nn.LSTM(input_size=input_features, hidden_size=50, batch_first=True)\n",
    "    self.fc = torch.nn.Linear(50, 2)\n",
    "    self.tanh = torch.nn.Tanh()\n",
    "    self.softmax = torch.nn.LogSoftmax(dim=1)\n",
    "\n",
    "  def forward(self, inputs):\n",
    "    _, (h1_T,_) = self.lstm(inputs)\n",
    "    h2=self.tanh(h1_T.squeeze())\n",
    "    h3 = self.fc(h2)       # inplace of h2[-1,:,:] we can use h2_T. Both are identical\n",
    "    output = self.softmax(h3)\n",
    "    return output\n",
    "model = SimpleModel(f)"
   ]
  },
  {
   "cell_type": "code",
   "execution_count": null,
   "metadata": {},
   "outputs": [],
   "source": [
    "inputs=scipy.io.loadmat(\"E:/test_features.mat\")\n",
    "test_features=inputs[\"x\"]\n",
    "test_labels=inputs[\"y\"].squeeze()\n",
    "test_set=Dataset(test_features,test_labels)"
   ]
  },
  {
   "cell_type": "code",
   "execution_count": 14,
   "metadata": {},
   "outputs": [],
   "source": [
    "test_features=test_features[:(len(test_labels)//t)*t].reshape((len(test_labels)//t,t,f))\n",
    "test_labels=test_labels[:(len(test_labels)//t)*t].reshape((test_labels.shape[0]//t,t))[:,0]\n",
    "test_set=Dataset(test_features,test_labels)"
   ]
  },
  {
   "cell_type": "code",
   "execution_count": 15,
   "metadata": {},
   "outputs": [
    {
     "data": {
      "text/plain": [
       "<class 'braindecode.classifier.EEGClassifier'>[initialized](\n",
       "  module_=SimpleModel(\n",
       "    (lstm): LSTM(53605, 50, batch_first=True)\n",
       "    (fc): Linear(in_features=50, out_features=2, bias=True)\n",
       "    (tanh): Tanh()\n",
       "    (softmax): LogSoftmax(dim=1)\n",
       "  ),\n",
       ")"
      ]
     },
     "execution_count": 15,
     "metadata": {},
     "output_type": "execute_result"
    }
   ],
   "source": [
    "monitor = lambda net: any(net.history[-1, ('valid_accuracy_best','valid_f1_best','valid_loss_best')])\n",
    "cp=Checkpoint(monitor='valid_f1_best',dirname='model',f_params='LSTMbest_param.pkl',f_optimizer='LSTMbest_opt.pkl',f_history='LSTMbest_history.json')\n",
    "classifier = braindecode.EEGClassifier(\n",
    "        model,\n",
    "        criterion=torch.nn.NLLLoss,\n",
    "        optimizer=torch.optim.AdamW,\n",
    "        train_split=predefined_split(test_set),\n",
    "        optimizer__lr=init_lr,\n",
    "        iterator_train__shuffle=True,\n",
    "        batch_size=batch_size,\n",
    "        device=device,\n",
    "        callbacks=[\"accuracy\",\"f1\",'roc_auc',cp],\n",
    "        warm_start=True,\n",
    "        )\n",
    "classifier.initialize()"
   ]
  },
  {
   "cell_type": "code",
   "execution_count": 16,
   "metadata": {},
   "outputs": [
    {
     "name": "stdout",
     "output_type": "stream",
     "text": [
      "[0 1]\n"
     ]
    }
   ],
   "source": [
    "test=torch.randn(size=(2,t,f))\n",
    "shape=classifier.predict(test)\n",
    "print(shape)"
   ]
  },
  {
   "cell_type": "code",
   "execution_count": 18,
   "metadata": {},
   "outputs": [
    {
     "name": "stdout",
     "output_type": "stream",
     "text": [
      "     11            0.9115      0.6734        \u001b[35m0.2190\u001b[0m           0.9375            0.6851      0.5370        0.8713           0.8279        50.8554\n",
      "     12            0.9127      0.6821        \u001b[35m0.2119\u001b[0m           \u001b[31m0.9424\u001b[0m            0.6860      0.5426        0.8647           0.8284        67.6770\n",
      "     13            \u001b[36m0.9225\u001b[0m      \u001b[32m0.7360\u001b[0m        \u001b[35m0.2114\u001b[0m           \u001b[31m0.9490\u001b[0m            0.6982      0.5743        0.7397           0.8243        49.1320\n",
      "     14            0.9195      0.7178        \u001b[35m0.2017\u001b[0m           0.9487            0.6992      0.5727        0.8886           0.8285        48.5494\n",
      "     15            \u001b[36m0.9230\u001b[0m      \u001b[32m0.7469\u001b[0m        \u001b[35m0.2007\u001b[0m           0.9478            0.7035      0.5921        0.8155           0.8257        49.1985\n",
      "     16            \u001b[36m0.9304\u001b[0m      \u001b[32m0.7694\u001b[0m        \u001b[35m0.1977\u001b[0m           \u001b[31m0.9531\u001b[0m            \u001b[94m0.7141\u001b[0m      0.6069        0.7667           0.8308        52.5581\n",
      "     17            0.9283      0.7616        \u001b[35m0.1876\u001b[0m           0.9490            0.7037      0.5909        0.8631           0.8147        48.5902\n",
      "     18            \u001b[36m0.9305\u001b[0m      \u001b[32m0.7743\u001b[0m        0.1903           \u001b[31m0.9579\u001b[0m            0.7047      0.5954        0.8124           0.8234        48.6146\n",
      "     19            \u001b[36m0.9393\u001b[0m      \u001b[32m0.8045\u001b[0m        \u001b[35m0.1799\u001b[0m           \u001b[31m0.9624\u001b[0m            0.7120      0.6076        0.8224           0.8212        49.9421\n",
      "     20            0.9349      0.7792        \u001b[35m0.1756\u001b[0m           0.9620            0.6968      0.5746        0.8513           0.8231        51.9186\n"
     ]
    },
    {
     "data": {
      "text/plain": [
       "<class 'braindecode.classifier.EEGClassifier'>[initialized](\n",
       "  module_=SimpleModel(\n",
       "    (lstm): LSTM(53605, 50, batch_first=True)\n",
       "    (fc): Linear(in_features=50, out_features=2, bias=True)\n",
       "    (tanh): Tanh()\n",
       "    (softmax): LogSoftmax(dim=1)\n",
       "  ),\n",
       ")"
      ]
     },
     "execution_count": 18,
     "metadata": {},
     "output_type": "execute_result"
    }
   ],
   "source": [
    "#Try deep smac by itself and as feature extractor and determine effectiveness\n",
    "classifier.fit(features,y=labels,epochs=10)"
   ]
  },
  {
   "cell_type": "code",
   "execution_count": null,
   "metadata": {},
   "outputs": [],
   "source": [
    "out=classifier.predict(test_features)\n",
    "accuracy=np.mean(out==test_labels)\n",
    "print(f\"Accuracy:{accuracy}\")\n",
    "tp=np.sum(out*test_labels)\n",
    "precision=tp/np.sum(out)\n",
    "recall=tp/np.sum(test_labels)\n",
    "f1=2*precision*recall/(precision+recall)\n",
    "print(f\"F1-Score:{f1}\") "
   ]
  }
 ],
 "metadata": {
  "kernelspec": {
   "display_name": "Python 3",
   "language": "python",
   "name": "python3"
  },
  "language_info": {
   "codemirror_mode": {
    "name": "ipython",
    "version": 3
   },
   "file_extension": ".py",
   "mimetype": "text/x-python",
   "name": "python",
   "nbconvert_exporter": "python",
   "pygments_lexer": "ipython3",
   "version": "3.10.10"
  },
  "orig_nbformat": 4
 },
 "nbformat": 4,
 "nbformat_minor": 2
}
